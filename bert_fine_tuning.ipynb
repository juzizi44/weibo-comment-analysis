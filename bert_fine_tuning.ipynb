{
 "cells": [
  {
   "cell_type": "markdown",
   "metadata": {
    "pycharm": {
     "name": "#%% md\n"
    }
   },
   "source": [
    "# 数据封装"
   ]
  },
  {
   "cell_type": "code",
   "execution_count": 5,
   "outputs": [],
   "source": [
    "import pandas as pd\n",
    "import torch\n",
    "df = pd.read_csv(\"dataset/train/weibo_train_data.csv\")\n",
    "df = df.dropna()\n",
    "device = torch.device(\"cuda:0\" if torch.cuda.is_available() else \"cpu\")\n",
    "\n",
    "# 划分数据集\n",
    "from sklearn.model_selection import train_test_split\n",
    "\n",
    "X_train, X_test, y_train, y_test = train_test_split(df['review'].values,\n",
    "                                                    df['label'].values,\n",
    "                                                    train_size=0.9,\n",
    "                                                    random_state=100)\n",
    "from torch.utils.data import Dataset, DataLoader\n",
    "import torch\n",
    "\n",
    "class MyDataset(Dataset):\n",
    "    def __init__(self, X, y):\n",
    "        self.X = X\n",
    "        self.y = y\n",
    "\n",
    "    def __getitem__(self, idx):\n",
    "        return self.X[idx], self.y[idx]\n",
    "\n",
    "    def __len__(self):\n",
    "        return len(self.X)\n",
    "\n",
    "\n",
    "train_dataset = MyDataset(X_train, y_train)\n",
    "test_dataset = MyDataset(X_test, y_test)\n",
    "\n",
    "batch_size = 32\n",
    "train_loader = DataLoader(dataset=train_dataset, batch_size=batch_size, shuffle=False)\n",
    "test_loader = DataLoader(dataset=test_dataset, batch_size=batch_size, shuffle=False)"
   ],
   "metadata": {
    "collapsed": false,
    "pycharm": {
     "name": "#%%\n"
    }
   }
  },
  {
   "cell_type": "markdown",
   "source": [],
   "metadata": {
    "collapsed": false,
    "pycharm": {
     "name": "#%% md\n"
    }
   }
  },
  {
   "cell_type": "markdown",
   "source": [
    "# 模型"
   ],
   "metadata": {
    "collapsed": false,
    "pycharm": {
     "name": "#%% md\n"
    }
   }
  },
  {
   "cell_type": "code",
   "execution_count": null,
   "outputs": [],
   "source": [
    "from torch import nn\n",
    "from transformers import BertModel, BertTokenizer\n",
    "from transformers import AdamW\n",
    "from tqdm import tqdm\n",
    "\n",
    "num_class=2\n",
    "\n",
    "class BertClassificationModel(nn.Module):\n",
    "    def __init__(self,hidden_size=768): # bert默认最后输出维度为768\n",
    "        super(BertClassificationModel, self).__init__()\n",
    "        model_name = 'bert-base-chinese'\n",
    "        # 读取分词器\n",
    "        self.tokenizer = BertTokenizer.from_pretrained(pretrained_model_name_or_path=model_name)\n",
    "        # 读取预训练模型\n",
    "        self.bert = BertModel.from_pretrained(pretrained_model_name_or_path=model_name)\n",
    "\n",
    "        for p in self.bert.parameters(): # 冻结bert参数\n",
    "            p.requires_grad = False\n",
    "        self.fc = nn.Linear(hidden_size, num_class)\n",
    "\n",
    "    def forward(self, batch_sentences): # [batch_size,1]\n",
    "        # 编码\n",
    "        sentences_tokenizer = self.tokenizer(batch_sentences,\n",
    "                                             truncation=True,\n",
    "                                             padding=True,\n",
    "                                             max_length=512,\n",
    "                                             add_special_tokens=True)\n",
    "        input_ids=torch.tensor(sentences_tokenizer['input_ids']).to(device) # 变量\n",
    "        attention_mask=torch.tensor(sentences_tokenizer['attention_mask']).to(device) # 变量\n",
    "        bert_out=self.bert(input_ids=input_ids,attention_mask=attention_mask) # 模型\n",
    "\n",
    "        last_hidden_state =bert_out[0].to(device) # [batch_size, sequence_length, hidden_size] # 变量\n",
    "        bert_cls_hidden_state=last_hidden_state[:,0,:].to(device) # 变量\n",
    "        fc_out=self.fc(bert_cls_hidden_state) # 模型\n",
    "        return fc_out\n",
    "\n",
    "model=BertClassificationModel()\n",
    "# model = model.to(device)\n",
    "model = torch.load('model/model_10.pth').to(device)\n",
    "learning_rate = 1e-4\n",
    "optimizer=AdamW(model.parameters(),lr=learning_rate)\n",
    "loss_func=nn.CrossEntropyLoss()\n",
    "loss_func=loss_func.to(device)"
   ],
   "metadata": {
    "collapsed": false,
    "pycharm": {
     "name": "#%%\n"
    }
   }
  },
  {
   "cell_type": "code",
   "execution_count": null,
   "outputs": [],
   "source": [
    "def train(epoch):\n",
    "\n",
    "    for i in range(epoch):\n",
    "        print(\"-------第 {} 轮训练开始-------\".format(i+1))\n",
    "        model.train()\n",
    "        for idx,(data,labels) in enumerate(tqdm(train_loader)):\n",
    "\n",
    "            out=model(data) # [batch_size,num_class]\n",
    "            loss=loss_func(out.cpu(),labels)\n",
    "\n",
    "            # 优化器优化模型\n",
    "            loss.backward()\n",
    "            optimizer.step()\n",
    "            optimizer.zero_grad()\n",
    "\n",
    "            if idx%500==0: # 第1个batch 第500个 第1000个...\n",
    "                out=out.argmax(dim=-1)\n",
    "                acc=(out.cpu()==labels).sum().item()/len(labels)\n",
    "                print('训练集batch{}的，损失为{}，准确率为{}'.format(idx, loss.item(), acc)) # 一个batch的数据\n",
    "            # if idx%100==0: break\n",
    "\n",
    "        model.eval()\n",
    "        correct = 0\n",
    "        total = 0\n",
    "        for idx2,(data,labels) in enumerate(tqdm(test_loader)):  # 每轮跑下来 查看测试集的准确率\n",
    "            with torch.no_grad():\n",
    "                out=model(data) # [batch_size,num_class]\n",
    "\n",
    "            out = out.argmax(dim=1)\n",
    "            correct += (out.cpu() == labels).sum().item()\n",
    "            total += len(labels)\n",
    "\n",
    "        print('第{}轮次的测试集准确率为{}'.format(i+1,correct / total))\n",
    "\n",
    "        torch.save(model, \"model/model_{}.pth\".format(i+1))\n",
    "        print(\"模型已保存\")\n",
    "\n",
    "\n",
    "\n",
    "# 训练的轮数\n",
    "epoch = 10\n",
    "train(epoch)"
   ],
   "metadata": {
    "collapsed": false,
    "pycharm": {
     "name": "#%%\n"
    }
   }
  },
  {
   "cell_type": "code",
   "execution_count": null,
   "outputs": [],
   "source": [],
   "metadata": {
    "collapsed": false,
    "pycharm": {
     "name": "#%%\n"
    }
   }
  },
  {
   "cell_type": "code",
   "execution_count": null,
   "outputs": [],
   "source": [],
   "metadata": {
    "collapsed": false,
    "pycharm": {
     "name": "#%%\n"
    }
   }
  }
 ],
 "metadata": {
  "kernelspec": {
   "display_name": "Python 3 (ipykernel)",
   "language": "python",
   "name": "python3"
  },
  "language_info": {
   "codemirror_mode": {
    "name": "ipython",
    "version": 3
   },
   "file_extension": ".py",
   "mimetype": "text/x-python",
   "name": "python",
   "nbconvert_exporter": "python",
   "pygments_lexer": "ipython3",
   "version": "3.9.13"
  }
 },
 "nbformat": 4,
 "nbformat_minor": 1
}